{
 "cells": [
  {
   "cell_type": "code",
   "execution_count": 1,
   "metadata": {
    "collapsed": false
   },
   "outputs": [
    {
     "data": {
      "text/plain": [
       "'Build an algorithm which takes a matrix (n x m) of 0s and 1s, and return the count of islands in the matrix.\\nAn island is considered to be as the presence of a singular 1, and also the presence of another 1 horizontally and/or vertically of 1.'"
      ]
     },
     "execution_count": 1,
     "metadata": {},
     "output_type": "execute_result"
    }
   ],
   "source": [
    "'''Build an algorithm which takes a matrix M (n x m) of 0s and 1s, and return the count of islands in the matrix.\n",
    "An island is considered to be as the presence of a singular 1, and also the presence of another 1 horizontally and/or vertically of 1.\n",
    "If the input is not a matrix or an empty matrix, then return 0.'''"
   ]
  },
  {
   "cell_type": "code",
   "execution_count": null,
   "metadata": {
    "collapsed": true
   },
   "outputs": [],
   "source": [
    "'''Input: Matrix [[0, 1, 0],\n",
    "                    [1, 0, 1]]\n",
    "    Output: Count of islands\n",
    "    \n",
    "    Test cases: None --> Output 0\n",
    "                Empty matrix [[]] --> Output 0'''\n",
    "\n",
    "'''Strategy: Graph, n rows x m columns. Big O(nm). BFS (Breadth-First-Search)'''"
   ]
  },
  {
   "cell_type": "code",
   "execution_count": 26,
   "metadata": {
    "collapsed": false
   },
   "outputs": [],
   "source": [
    "M = [[0, 1, 0],\n",
    "     [1, 0, 1],\n",
    "     [1, 1, 1],\n",
    "     [1, 0, 1]]\n",
    "\n",
    "def IslandCounter(M):\n",
    "    if M == None or M == [[]]:\n",
    "        return 0\n",
    "    else:\n",
    "        islands = 0\n",
    "        col = len(M[0])\n",
    "        row = len(M)\n",
    "        \n",
    "        for i in range(0, row):\n",
    "            for j in range(0, col):\n",
    "                if M[i][j] == 1:\n",
    "                    islands += 1\n",
    "                    findPartsOfIsland(M, i, j, row, col)\n",
    "        return islands\n",
    "\n",
    "def findPartsOfIsland(M, i, j, row, col):\n",
    "    from collections import deque\n",
    "    q = deque()\n",
    "    q.append([i, j])\n",
    "    \n",
    "    while len(q) != 0:\n",
    "        i = q.pop()\n",
    "        x = i[0]\n",
    "        y = i[1]\n",
    "        print x, y\n",
    "        \n",
    "        if M[x][y] == 1:\n",
    "            M[x][y] == 2\n",
    "            \n",
    "    def appendIf(q, row, col, x, y):\n",
    "        if x >= 0 and x < col and y >=0 and y < row:\n",
    "            q.append([x, y])\n",
    "    \n",
    "    appendIf(q, row, col, x + 1, y) # top\n",
    "    appendIf(q, row, col, x, y + 1) # right\n",
    "    appendIf(q, row, col, x - 1, y) # bottom\n",
    "    appendIf(q, row, col, x, y - 1) # left"
   ]
  },
  {
   "cell_type": "code",
   "execution_count": 27,
   "metadata": {
    "collapsed": false
   },
   "outputs": [
    {
     "name": "stdout",
     "output_type": "stream",
     "text": [
      "0 1\n",
      "None\n",
      "None\n",
      "None\n",
      "None\n",
      "1 0\n",
      "None\n",
      "None\n",
      "None\n",
      "None\n",
      "1 2\n",
      "None\n",
      "None\n",
      "None\n",
      "None\n",
      "2 0\n",
      "None\n",
      "None\n",
      "None\n",
      "None\n",
      "2 1\n",
      "None\n",
      "None\n",
      "None\n",
      "None\n",
      "2 2\n",
      "None\n",
      "None\n",
      "None\n",
      "None\n",
      "3 0\n",
      "None\n",
      "None\n",
      "None\n",
      "None\n",
      "3 2\n",
      "None\n",
      "None\n",
      "None\n",
      "None\n"
     ]
    },
    {
     "data": {
      "text/plain": [
       "8"
      ]
     },
     "execution_count": 27,
     "metadata": {},
     "output_type": "execute_result"
    }
   ],
   "source": [
    "IslandCounter(M)"
   ]
  },
  {
   "cell_type": "code",
   "execution_count": null,
   "metadata": {
    "collapsed": true
   },
   "outputs": [],
   "source": []
  }
 ],
 "metadata": {
  "anaconda-cloud": {},
  "kernelspec": {
   "display_name": "Python [Root]",
   "language": "python",
   "name": "Python [Root]"
  },
  "language_info": {
   "codemirror_mode": {
    "name": "ipython",
    "version": 2
   },
   "file_extension": ".py",
   "mimetype": "text/x-python",
   "name": "python",
   "nbconvert_exporter": "python",
   "pygments_lexer": "ipython2",
   "version": "2.7.12"
  }
 },
 "nbformat": 4,
 "nbformat_minor": 0
}
